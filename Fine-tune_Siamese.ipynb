{
 "cells": [
  {
   "cell_type": "code",
   "execution_count": 1,
   "metadata": {},
   "outputs": [
    {
     "name": "stderr",
     "output_type": "stream",
     "text": [
      "Using TensorFlow backend.\n"
     ]
    }
   ],
   "source": [
    "import os\n",
    "import numpy as np\n",
    "from scipy import misc\n",
    "import matplotlib.pyplot as plt\n",
    "%matplotlib inline\n",
    "\n",
    "import tensorflow as tf\n",
    "\n",
    "from keras import backend as K\n",
    "K.set_image_data_format('channels_first')\n",
    "\n",
    "from keras.models import Sequential\n",
    "from keras.models import Model\n",
    "from keras.layers.core import Dense, Dropout, Lambda\n",
    "from keras.layers import Input, Subtract, add, Dot\n",
    "from keras import optimizers\n",
    "\n",
    "from sklearn import decomposition\n",
    "from sklearn.preprocessing import StandardScaler"
   ]
  },
  {
   "cell_type": "code",
   "execution_count": 4,
   "metadata": {},
   "outputs": [],
   "source": [
    "def one_hot(Y):\n",
    "    C = len(list(set(Y)))\n",
    "    Y_OH = np.eye(C)[Y.reshape(-1)]\n",
    "\n",
    "    return Y_OH"
   ]
  },
  {
   "cell_type": "code",
   "execution_count": 5,
   "metadata": {},
   "outputs": [],
   "source": [
    "def evaluate_model(model, X_train, Y_train, X_test, Y_test, maxItem = 100):\n",
    "    #test model on training data set and testing data set\n",
    "    nTrain = min([maxItem, X_train.shape[0]])\n",
    "    print('Performance on Training data set (%d)' % nTrain)\n",
    "    preds = model.evaluate(X_train[0:nTrain], Y_train[0:nTrain])\n",
    "    print (\"Loss = \" + str(preds[0]))\n",
    "    print (\"Train Accuracy = \" + str(preds[1]))\n",
    "\n",
    "    nTest = min([maxItem, X_test.shape[0]])\n",
    "    print('Performance on Testing data set (%d)' % nTest)\n",
    "    preds = model.evaluate(X_test[0:nTest], Y_test[0:nTest])\n",
    "    print (\"Loss = \" + str(preds[0]))\n",
    "    print (\"Test Accuracy = \" + str(preds[1]))"
   ]
  },
  {
   "cell_type": "code",
   "execution_count": 6,
   "metadata": {},
   "outputs": [],
   "source": [
    "def load_FaceData(datapath =r'C:\\\\Users\\\\abdalah\\\\Face Recognition\\\\FaceNet\\\\Caltech\\\\Processed\\\\'):\n",
    "    FaceData = []\n",
    "    for iFace in range(nFace):\n",
    "        im = misc.imread(datapath+'cf%04d.png' % iFace)\n",
    "        im = misc.imresize(im,(96,96,3))\n",
    "        im = np.around(np.transpose(im, (2,0,1))/255.0, decimals=12)\n",
    "        #im = np.transpose(im,[2,0,1])\n",
    "        FaceData.append(im)\n",
    "    FaceData = np.array(FaceData)\n",
    "    labels = np.load(datapath+'Labels.npy')\n",
    "    labels_OH = one_hot(labels)\n",
    "    return FaceData, labels,labels_OH"
   ]
  },
  {
   "cell_type": "code",
   "execution_count": 7,
   "metadata": {},
   "outputs": [],
   "source": [
    "def face_dist(f1,f2,w=1):\n",
    "    if w==1:\n",
    "        w = np.ones(f1.shape)\n",
    "    if len(f1.shape)==len(f2.shape)==1:\n",
    "        dist = np.linalg.norm((f1-f2)*w)\n",
    "    else:\n",
    "        dist = np.linalg.norm((f1-f2)*w, axis=1)\n",
    "    return dist"
   ]
  },
  {
   "cell_type": "code",
   "execution_count": 8,
   "metadata": {},
   "outputs": [],
   "source": [
    "def distance_based_prediction(FaceEmbedding, Labels, f):\n",
    "    \n",
    "    Dists = face_dist(FaceEmbedding,f)\n",
    "    \n",
    "    i = np.argmin(Dists)\n",
    "    \n",
    "    return Labels[i]"
   ]
  },
  {
   "cell_type": "code",
   "execution_count": 15,
   "metadata": {},
   "outputs": [],
   "source": [
    "from keras.models import model_from_json\n",
    "def load_base_model():\n",
    "    model = model_from_json(open(r'C:\\Users\\abdalah\\Face Recognition\\FaceNet\\FaceNet_Model\\FaceNet.json').read())\n",
    "    model.load_weights(r'C:\\Users\\abdalah\\Face Recognition\\FaceNet\\FaceNet_Model\\FaceNet_weights.h5')\n",
    "    return model"
   ]
  },
  {
   "cell_type": "code",
   "execution_count": 10,
   "metadata": {},
   "outputs": [],
   "source": [
    "nFace = 450"
   ]
  },
  {
   "cell_type": "code",
   "execution_count": 11,
   "metadata": {},
   "outputs": [],
   "source": [
    "def triplet_loss(y_true, y_pred, alpha = 0.2):\n",
    "    \"\"\"\n",
    "    Implementation of the triplet loss as defined by formula (3)\n",
    "\n",
    "    Arguments:\n",
    "    y_true -- true labels, required when you define a loss in Keras, you don't need it in this function.\n",
    "    y_pred -- python list containing three objects:\n",
    "            anchor -- the encodings for the anchor images, of shape (None, 128)\n",
    "            positive -- the encodings for the positive images, of shape (None, 128)\n",
    "            negative -- the encodings for the negative images, of shape (None, 128)\n",
    "\n",
    "    Returns:\n",
    "    loss -- real number, value of the loss\n",
    "    \"\"\"\n",
    "\n",
    "#     anchorpositive, anchornegative = y_pred[0], y_pred[1]\n",
    "\n",
    "#     ### START CODE HERE ### (≈ 4 lines)\n",
    "#     # Step 1: Compute the (encoding) distance between the anchor and the positive\n",
    "#     pos_dist = K.sum(K.square(anchorpositive),axis=-1)\n",
    "#     # Step 2: Compute the (encoding) distance between the anchor and the negative\n",
    "#     neg_dist = K.sum(K.square(anchornegative),axis=-1)\n",
    "#     # Step 3: subtract the two previous distances and add alpha.\n",
    "#     basic_loss = pos_dist - neg_dist + alpha\n",
    "#     # Step 4: Take the maximum of basic_loss and 0.0. Sum over the training examples.\n",
    "#     loss = K.sum(K.maximum(basic_loss,0.0))\n",
    "#     ### END CODE HERE ###\n",
    "\n",
    "    loss = K.sum(K.maximum(y_pred+alpha,0.0))\n",
    "\n",
    "    return loss\n"
   ]
  },
  {
   "cell_type": "code",
   "execution_count": 12,
   "metadata": {},
   "outputs": [],
   "source": [
    "def VecDist(tensors):\n",
    "    dist = K.sum(K.square(tensors[0]-tensors[1]),axis=-1)\n",
    "    return dist"
   ]
  },
  {
   "cell_type": "code",
   "execution_count": 13,
   "metadata": {},
   "outputs": [],
   "source": [
    "def Create_Siamese_model(basemodel,alpha = 0.2):\n",
    "    basemodel_input_shape = basemodel.layers[0].input.get_shape().as_list()[1:]\n",
    "    Anchor_Input    = Input(basemodel_input_shape)\n",
    "    Positive_Input  = Input(basemodel_input_shape)\n",
    "    Negative_Input  = Input(basemodel_input_shape)\n",
    "    \n",
    "    Anchor_Predict   = basemodel(Anchor_Input)\n",
    "    Positive_Predict = basemodel(Positive_Input)\n",
    "    Negative_Predict = basemodel(Negative_Input)\n",
    "\n",
    "    AP_dist = Lambda(VecDist, output_shape=(1,))([Anchor_Predict,Positive_Predict])\n",
    "    AN_dist = Lambda(VecDist, output_shape=(1,))([Anchor_Predict,Negative_Predict])\n",
    "\n",
    "    print(AP_dist,AN_dist)\n",
    "    APN = Subtract()([AP_dist,AN_dist])\n",
    "    print(APN)\n",
    "                     \n",
    "    SiameseModel = Model(inputs = [Anchor_Input, Positive_Input, Negative_Input], outputs = APN)\n",
    "    \n",
    "    return SiameseModel "
   ]
  },
  {
   "cell_type": "code",
   "execution_count": 16,
   "metadata": {},
   "outputs": [],
   "source": [
    "FNModel = load_base_model()"
   ]
  },
  {
   "cell_type": "code",
   "execution_count": 17,
   "metadata": {},
   "outputs": [
    {
     "data": {
      "text/plain": [
       "3743280"
      ]
     },
     "execution_count": 17,
     "metadata": {},
     "output_type": "execute_result"
    }
   ],
   "source": [
    "FNModel.count_params()"
   ]
  },
  {
   "cell_type": "code",
   "execution_count": 18,
   "metadata": {},
   "outputs": [
    {
     "name": "stderr",
     "output_type": "stream",
     "text": [
      "C:\\Users\\abdalah\\Anaconda3\\lib\\site-packages\\ipykernel_launcher.py:4: DeprecationWarning: `imread` is deprecated!\n",
      "`imread` is deprecated in SciPy 1.0.0, and will be removed in 1.2.0.\n",
      "Use ``imageio.imread`` instead.\n",
      "  after removing the cwd from sys.path.\n",
      "C:\\Users\\abdalah\\Anaconda3\\lib\\site-packages\\ipykernel_launcher.py:5: DeprecationWarning: `imresize` is deprecated!\n",
      "`imresize` is deprecated in SciPy 1.0.0, and will be removed in 1.2.0.\n",
      "Use ``skimage.transform.resize`` instead.\n",
      "  \"\"\"\n"
     ]
    },
    {
     "name": "stdout",
     "output_type": "stream",
     "text": [
      "(450, 3, 96, 96)\n",
      "(450,)\n",
      "(450, 31)\n"
     ]
    }
   ],
   "source": [
    "FaceData, labels, labels_OH = load_FaceData()\n",
    "print(FaceData.shape)\n",
    "print(labels.shape)\n",
    "print(labels_OH.shape)"
   ]
  },
  {
   "cell_type": "code",
   "execution_count": 19,
   "metadata": {},
   "outputs": [],
   "source": [
    "nPeople = labels_OH.shape[1]"
   ]
  },
  {
   "cell_type": "code",
   "execution_count": 20,
   "metadata": {},
   "outputs": [
    {
     "name": "stdout",
     "output_type": "stream",
     "text": [
      "Wall time: 9.54 s\n"
     ]
    }
   ],
   "source": [
    "%time FaceEmbedding = FNModel.predict(FaceData)"
   ]
  },
  {
   "cell_type": "code",
   "execution_count": 21,
   "metadata": {},
   "outputs": [
    {
     "data": {
      "text/plain": [
       "Text(0.5, 1.0, 'feature space')"
      ]
     },
     "execution_count": 21,
     "metadata": {},
     "output_type": "execute_result"
    },
    {
     "data": {
      "image/png": "[encoded data removed]",
      "text/plain": [
       "<Figure size 432x288 with 1 Axes>"
      ]
     },
     "metadata": {
      "needs_background": "light"
     },
     "output_type": "display_data"
    }
   ],
   "source": [
    "pca = decomposition.PCA(n_components = 2)\n",
    "x_std = StandardScaler().fit_transform(FaceEmbedding)\n",
    "x_feature_pca = pca.fit_transform(x_std)\n",
    "plt.scatter(x_feature_pca[:,0],x_feature_pca[:,1],c=labels)\n",
    "plt.title('feature space')"
   ]
  },
  {
   "cell_type": "code",
   "execution_count": 22,
   "metadata": {},
   "outputs": [],
   "source": [
    "Distances_within_class = []\n",
    "Distances_among_class = []\n",
    "\n",
    "FaceEmbedding_Dist = np.ones((nFace,nFace))*100\n",
    "for i in range(nFace):\n",
    "    for j in range(i,nFace):\n",
    "        FaceEmbedding_Dist[i,j]=face_dist(FaceEmbedding[i,:],FaceEmbedding[j,:])\n",
    "        FaceEmbedding_Dist[j,i]=FaceEmbedding_Dist[i,j]\n",
    "        if labels[i]==labels[j]:\n",
    "            Distances_within_class.append(FaceEmbedding_Dist[i,j])\n",
    "        else:\n",
    "            Distances_among_class.append(FaceEmbedding_Dist[i,j])\n",
    "            \n",
    "Distances_within_class = np.array(Distances_within_class)\n",
    "Distances_among_class = np.array(Distances_among_class)"
   ]
  },
  {
   "cell_type": "code",
   "execution_count": 23,
   "metadata": {},
   "outputs": [
    {
     "name": "stderr",
     "output_type": "stream",
     "text": [
      "C:\\Users\\abdalah\\Anaconda3\\lib\\site-packages\\ipykernel_launcher.py:2: MatplotlibDeprecationWarning: \n",
      "The 'normed' kwarg was deprecated in Matplotlib 2.1 and will be removed in 3.1. Use 'density' instead.\n",
      "  \n",
      "C:\\Users\\abdalah\\Anaconda3\\lib\\site-packages\\ipykernel_launcher.py:3: MatplotlibDeprecationWarning: \n",
      "The 'normed' kwarg was deprecated in Matplotlib 2.1 and will be removed in 3.1. Use 'density' instead.\n",
      "  This is separate from the ipykernel package so we can avoid doing imports until\n"
     ]
    },
    {
     "name": "stdout",
     "output_type": "stream",
     "text": [
      "Cross-class distance = 0.805 +\\- 0.168\n",
      "Same-class distance = 0.519 +\\- 0.232\n"
     ]
    },
    {
     "data": {
      "image/png": "[encoded data removed]",
      "text/plain": [
       "<Figure size 432x288 with 1 Axes>"
      ]
     },
     "metadata": {
      "needs_background": "light"
     },
     "output_type": "display_data"
    }
   ],
   "source": [
    "plt.figure()\n",
    "_ = plt.hist(Distances_among_class,bins = 50, label = 'cross class',normed = True)\n",
    "_ = plt.hist(Distances_within_class,bins = 50, label = 'same class', normed = True)\n",
    "plt.title('Distribution of cross-class distance')\n",
    "plt.legend()\n",
    "\n",
    "print('Cross-class distance = %1.3f +\\- %1.3f' % (Distances_among_class.mean(), Distances_among_class.std()))\n",
    "print('Same-class distance = %1.3f +\\- %1.3f' % (Distances_within_class.mean(), Distances_within_class.std()))"
   ]
  },
  {
   "cell_type": "code",
   "execution_count": 25,
   "metadata": {},
   "outputs": [
    {
     "name": "stdout",
     "output_type": "stream",
     "text": [
      "pct of false positive 23.812 %\n",
      "pct of false negative 22.103 %\n",
      "accuracy = 76.268\n"
     ]
    },
    {
     "data": {
      "image/png": "[encoded data removed]",
      "text/plain": [
       "<Figure size 432x288 with 1 Axes>"
      ]
     },
     "metadata": {
      "needs_background": "light"
     },
     "output_type": "display_data"
    }
   ],
   "source": [
    "FP = []\n",
    "FN = []\n",
    "\n",
    "for threshold in np.arange(0,max(Distances_among_class),0.01):\n",
    "    FP.append(100.0*np.sum(Distances_among_class<threshold)/len(Distances_among_class))\n",
    "    FN.append(100.0*np.sum(Distances_within_class>threshold)/len(Distances_within_class))\n",
    "    \n",
    "plt.plot(FP,FN)  \n",
    "threshold = 0.68\n",
    "print('pct of false positive %2.3f %%' % (100.0*np.sum(Distances_among_class<threshold)/len(Distances_among_class)))\n",
    "print('pct of false negative %2.3f %%' % (100.0*np.sum(Distances_within_class>threshold)/len(Distances_within_class)))\n",
    "\n",
    "print('accuracy = %2.3f' % (100.0*(np.sum(Distances_among_class>threshold)+np.sum(Distances_within_class<threshold))/(len(Distances_among_class)+len(Distances_within_class))))"
   ]
  },
  {
   "cell_type": "code",
   "execution_count": 26,
   "metadata": {},
   "outputs": [
    {
     "name": "stdout",
     "output_type": "stream",
     "text": [
      "Training data set has %d face images 307\n",
      "Test data set has %d face images 143\n"
     ]
    }
   ],
   "source": [
    "train_idx = []\n",
    "test_idx = []\n",
    "for l in set(labels):\n",
    "    ind = np.where(labels==l)[0]\n",
    "    if len(ind)<=1:\n",
    "        ind_train = list(ind)\n",
    "        ind_test = []\n",
    "    else:\n",
    "        i_split = max([3,int(len(ind)*0.7)])\n",
    "        ind_train = list(ind[0:i_split])\n",
    "        ind_test = list(ind[i_split:])\n",
    "    train_idx += ind_train\n",
    "    test_idx += ind_test  \n",
    "print(\"Training data set has %d face images\", len(train_idx))\n",
    "print(\"Test data set has %d face images\", len(test_idx))"
   ]
  },
  {
   "cell_type": "code",
   "execution_count": 27,
   "metadata": {},
   "outputs": [
    {
     "name": "stdout",
     "output_type": "stream",
     "text": [
      "Face recognition accuracy using purely distance based method: 74.126 %\n"
     ]
    }
   ],
   "source": [
    "nCorrect = 0\n",
    "for i in test_idx:\n",
    "    p = distance_based_prediction(FaceEmbedding[train_idx], labels[train_idx], FaceEmbedding[i])\n",
    "    if p == labels[i]:\n",
    "        nCorrect += 1\n",
    "print('Face recognition accuracy using purely distance based method: %3.3f %%' % (100.*(0.+nCorrect)/len(test_idx)))"
   ]
  },
  {
   "cell_type": "code",
   "execution_count": 28,
   "metadata": {},
   "outputs": [
    {
     "name": "stdout",
     "output_type": "stream",
     "text": [
      "106\n"
     ]
    }
   ],
   "source": [
    "print(nCorrect)"
   ]
  },
  {
   "cell_type": "code",
   "execution_count": 29,
   "metadata": {},
   "outputs": [
    {
     "name": "stdout",
     "output_type": "stream",
     "text": [
      "Tensor(\"lambda_1/Sum:0\", shape=(None,), dtype=float32) Tensor(\"lambda_2_1/Sum:0\", shape=(None,), dtype=float32)\n",
      "Tensor(\"subtract_1/sub:0\", shape=(None,), dtype=float32)\n"
     ]
    }
   ],
   "source": [
    "SiameseModel = Create_Siamese_model(FNModel)"
   ]
  },
  {
   "cell_type": "code",
   "execution_count": 30,
   "metadata": {},
   "outputs": [
    {
     "data": {
      "text/plain": [
       "<tf.Tensor 'subtract_1/sub:0' shape=(None,) dtype=float32>"
      ]
     },
     "execution_count": 30,
     "metadata": {},
     "output_type": "execute_result"
    }
   ],
   "source": [
    "SiameseModel.output"
   ]
  },
  {
   "cell_type": "code",
   "execution_count": 31,
   "metadata": {},
   "outputs": [],
   "source": [
    "SiameseModel.compile(optimizer = 'adam', loss = triplet_loss)"
   ]
  },
  {
   "cell_type": "code",
   "execution_count": 32,
   "metadata": {},
   "outputs": [
    {
     "name": "stdout",
     "output_type": "stream",
     "text": [
      "Model: \"model_1\"\n",
      "__________________________________________________________________________________________________\n",
      "Layer (type)                    Output Shape         Param #     Connected to                     \n",
      "==================================================================================================\n",
      "input_1 (InputLayer)            (None, 3, 96, 96)    0                                            \n",
      "__________________________________________________________________________________________________\n",
      "input_2 (InputLayer)            (None, 3, 96, 96)    0                                            \n",
      "__________________________________________________________________________________________________\n",
      "input_3 (InputLayer)            (None, 3, 96, 96)    0                                            \n",
      "__________________________________________________________________________________________________\n",
      "FaceRecoModel (Model)           (None, 128)          3743280     input_1[0][0]                    \n",
      "                                                                 input_2[0][0]                    \n",
      "                                                                 input_3[0][0]                    \n",
      "__________________________________________________________________________________________________\n",
      "lambda_1 (Lambda)               (None, 1)            0           FaceRecoModel[1][0]              \n",
      "                                                                 FaceRecoModel[2][0]              \n",
      "__________________________________________________________________________________________________\n",
      "lambda_2 (Lambda)               (None, 1)            0           FaceRecoModel[1][0]              \n",
      "                                                                 FaceRecoModel[3][0]              \n",
      "__________________________________________________________________________________________________\n",
      "subtract_1 (Subtract)           (None, 1)            0           lambda_1[0][0]                   \n",
      "                                                                 lambda_2[0][0]                   \n",
      "==================================================================================================\n",
      "Total params: 3,743,280\n",
      "Trainable params: 3,733,968\n",
      "Non-trainable params: 9,312\n",
      "__________________________________________________________________________________________________\n"
     ]
    }
   ],
   "source": [
    "SiameseModel.summary()"
   ]
  },
  {
   "cell_type": "code",
   "execution_count": 33,
   "metadata": {},
   "outputs": [
    {
     "data": {
      "text/plain": [
       "450"
      ]
     },
     "execution_count": 33,
     "metadata": {},
     "output_type": "execute_result"
    }
   ],
   "source": [
    "nFace"
   ]
  },
  {
   "cell_type": "code",
   "execution_count": 34,
   "metadata": {},
   "outputs": [],
   "source": [
    "#find hard to train positive and negative combinations\n",
    "A = []\n",
    "P = []\n",
    "N = []\n",
    "\n",
    "dist_threshold = 0.4\n",
    "for i in range(nPeople):\n",
    "    ifaces = np.where(labels==i)[0]\n",
    "\n",
    "    iOtherPerson = list(set(range(nFace))-set(ifaces))\n",
    "    \n",
    "    for iface in ifaces:\n",
    "        iSamePerson = list(ifaces)\n",
    "        \n",
    "        #find negative faces\n",
    "        nNegativeFaces = (FaceEmbedding_Dist[iface,iOtherPerson]<dist_threshold).sum()\n",
    "        nNegativeFaces = max(1,nNegativeFaces)\n",
    "        if nNegativeFaces == 0:\n",
    "            continue\n",
    "        \n",
    "        iNegativeFaces = FaceEmbedding_Dist[iface,iOtherPerson].argsort()[:nNegativeFaces]\n",
    "        iNegativeFaces = np.array(iOtherPerson)[iNegativeFaces]\n",
    "        \n",
    "        DistNegativeFaces = FaceEmbedding_Dist[iface,list(iNegativeFaces)]\n",
    "        probNegativeFaces = DistNegativeFaces.max() - DistNegativeFaces + 0.1\n",
    "        probNegativeFaces = probNegativeFaces/probNegativeFaces.sum()\n",
    "        \n",
    "        #find positive faces\n",
    "        nPositiveFaces = (FaceEmbedding_Dist[iface,iSamePerson]>dist_threshold).sum()\n",
    "        nPositiveFaces = max(1,nPositiveFaces)\n",
    "        \n",
    "        iPositiveFaces = FaceEmbedding_Dist[iface,iSamePerson].argsort()[-nPositiveFaces:]\n",
    "        iPositiveFaces = np.array(iSamePerson)[iPositiveFaces]\n",
    "        \n",
    "        DistPositiveFaces = FaceEmbedding_Dist[iface,list(iPositiveFaces)]\n",
    "        probPositiveFaces = DistPositiveFaces.max() - DistPositiveFaces + 0.1\n",
    "        probPositiveFaces = probPositiveFaces/probPositiveFaces.sum()\n",
    "        \n",
    "        #samples\n",
    "        nTotalSample = nNegativeFaces*nPositiveFaces+1\n",
    "        \n",
    "        iNegative = np.random.choice(nNegativeFaces,nTotalSample, p = probNegativeFaces)\n",
    "        iNegative = iNegativeFaces[iNegative]\n",
    "        iPositive = np.random.choice(nPositiveFaces,nTotalSample, p = probPositiveFaces)\n",
    "        iPositive = iPositiveFaces[iPositive]\n",
    "\n",
    "        iAnchor = np.ones((nTotalSample,),dtype=int)*iface\n",
    "    \n",
    "        A += list(iAnchor)\n",
    "        P += list(iPositive)\n",
    "        N += list(iNegative)"
   ]
  },
  {
   "cell_type": "code",
   "execution_count": 36,
   "metadata": {},
   "outputs": [
    {
     "name": "stdout",
     "output_type": "stream",
     "text": [
      "11794 number of Anchors, Positives, Negatives APN combinations had been identified\n"
     ]
    }
   ],
   "source": [
    "nAPN = len(A)\n",
    "print('%d number of Anchors, Positives, Negatives APN combinations had been identified' % nAPN)"
   ]
  },
  {
   "cell_type": "code",
   "execution_count": 37,
   "metadata": {},
   "outputs": [
    {
     "name": "stdout",
     "output_type": "stream",
     "text": [
      "11794 number of A, P, N combinations had been identified\n"
     ]
    },
    {
     "data": {
      "image/png": "[encoded data removed]",
      "text/plain": [
       "<Figure size 432x288 with 1 Axes>"
      ]
     },
     "metadata": {
      "needs_background": "light"
     },
     "output_type": "display_data"
    },
    {
     "name": "stdout",
     "output_type": "stream",
     "text": [
      "APN = 0.144 +\\- 0.128\n",
      "AP = 0.561 +\\- 0.126\n",
      "AN = 0.416 +\\- 0.071\n"
     ]
    }
   ],
   "source": [
    "nAPN = len(A)\n",
    "print('%d number of A, P, N combinations had been identified' % nAPN)\n",
    "APN, AP, AN = [], [] ,[]\n",
    "for i, iA in enumerate(A):\n",
    "    iP, iN = P[i], N[i]\n",
    "    Dist_AP = FaceEmbedding_Dist[iA,iP]\n",
    "    Dist_AN = FaceEmbedding_Dist[iA,iN]\n",
    "    APN.append(Dist_AP-Dist_AN)\n",
    "    AP.append(Dist_AP)\n",
    "    AN.append(Dist_AN)\n",
    "\n",
    "plt.hist(APN,bins=20,label='AP-AN')\n",
    "plt.hist(AP, bins=20,label='AP')\n",
    "plt.hist(AN, bins=20,label='AN')\n",
    "plt.legend()\n",
    "plt.show()\n",
    "\n",
    "print('APN = %1.3f +\\- %1.3f' % (np.array(APN).mean(), np.array(APN).std()))\n",
    "print('AP = %1.3f +\\- %1.3f' % (np.array(AP).mean(), np.array(AP).std()))\n",
    "print('AN = %1.3f +\\- %1.3f' % (np.array(AN).mean(), np.array(AN).std()))"
   ]
  },
  {
   "cell_type": "code",
   "execution_count": 38,
   "metadata": {},
   "outputs": [
    {
     "name": "stdout",
     "output_type": "stream",
     "text": [
      "Epoch 1/1\n",
      "11794/11794 [==============================] - 2051s 174ms/step - loss: 0.0551\n"
     ]
    },
    {
     "data": {
      "text/plain": [
       "<keras.callbacks.callbacks.History at 0x215c9ffedc8>"
      ]
     },
     "execution_count": 38,
     "metadata": {},
     "output_type": "execute_result"
    }
   ],
   "source": [
    "#SiameseModel.fit([FaceData[A[:5]],FaceData[P[:5]],FaceData[N[:5]]], np.ones((5,)), epochs = 1, batch_size = 32)\n",
    "SiameseModel.fit([FaceData[A],FaceData[P],FaceData[N]], np.zeros((nAPN,)), epochs = 1, batch_size = 4)"
   ]
  },
  {
   "cell_type": "code",
   "execution_count": 39,
   "metadata": {},
   "outputs": [
    {
     "name": "stdout",
     "output_type": "stream",
     "text": [
      "Wall time: 11 s\n"
     ]
    }
   ],
   "source": [
    "%time FaceEmbedding = FNModel.predict(FaceData)"
   ]
  },
  {
   "cell_type": "code",
   "execution_count": 40,
   "metadata": {},
   "outputs": [
    {
     "name": "stdout",
     "output_type": "stream",
     "text": [
      "Face recognition accuracy using purely distance based method: 80.420 %\n"
     ]
    }
   ],
   "source": [
    "nCorrect = 0\n",
    "for i in test_idx:\n",
    "    p = distance_based_prediction(FaceEmbedding[train_idx], labels[train_idx], FaceEmbedding[i])\n",
    "    if p == labels[i]:\n",
    "        nCorrect += 1\n",
    "print('Face recognition accuracy using purely distance based method: %3.3f %%' % (100.*(0.+nCorrect)/len(test_idx)))"
   ]
  },
  {
   "cell_type": "code",
   "execution_count": 41,
   "metadata": {},
   "outputs": [],
   "source": [
    "Distances_within_class = []\n",
    "Distances_among_class = []\n",
    "\n",
    "FaceEmbedding_Dist = np.ones((nFace,nFace))*100\n",
    "for i in range(nFace):\n",
    "    for j in range(i,nFace):\n",
    "        FaceEmbedding_Dist[i,j]=face_dist(FaceEmbedding[i,:],FaceEmbedding[j,:])\n",
    "        FaceEmbedding_Dist[j,i]=FaceEmbedding_Dist[i,j]\n",
    "        if labels[i]==labels[j]:\n",
    "            Distances_within_class.append(FaceEmbedding_Dist[i,j])\n",
    "        else:\n",
    "            Distances_among_class.append(FaceEmbedding_Dist[i,j])\n",
    "            \n",
    "Distances_within_class = np.array(Distances_within_class)\n",
    "Distances_among_class = np.array(Distances_among_class)"
   ]
  },
  {
   "cell_type": "code",
   "execution_count": 42,
   "metadata": {},
   "outputs": [
    {
     "name": "stderr",
     "output_type": "stream",
     "text": [
      "C:\\Users\\abdalah\\Anaconda3\\lib\\site-packages\\ipykernel_launcher.py:2: MatplotlibDeprecationWarning: \n",
      "The 'normed' kwarg was deprecated in Matplotlib 2.1 and will be removed in 3.1. Use 'density' instead.\n",
      "  \n",
      "C:\\Users\\abdalah\\Anaconda3\\lib\\site-packages\\ipykernel_launcher.py:3: MatplotlibDeprecationWarning: \n",
      "The 'normed' kwarg was deprecated in Matplotlib 2.1 and will be removed in 3.1. Use 'density' instead.\n",
      "  This is separate from the ipykernel package so we can avoid doing imports until\n"
     ]
    },
    {
     "name": "stdout",
     "output_type": "stream",
     "text": [
      "Cross-class distance = 1.009 +\\- 0.389\n",
      "Same-class distance = 0.281 +\\- 0.264\n"
     ]
    },
    {
     "data": {
      "image/png": "[encoded data removed]",
      "text/plain": [
       "<Figure size 432x288 with 1 Axes>"
      ]
     },
     "metadata": {
      "needs_background": "light"
     },
     "output_type": "display_data"
    }
   ],
   "source": [
    "plt.figure()\n",
    "_ = plt.hist(Distances_among_class,bins = 50, label = 'cross class',normed = True)\n",
    "_ = plt.hist(Distances_within_class,bins = 50, label = 'same class', normed = True)\n",
    "plt.title('Distribution of cross-class distance')\n",
    "plt.legend()\n",
    "\n",
    "print('Cross-class distance = %1.3f +\\- %1.3f' % (Distances_among_class.mean(), Distances_among_class.std()))\n",
    "print('Same-class distance = %1.3f +\\- %1.3f' % (Distances_within_class.mean(), Distances_within_class.std()))"
   ]
  },
  {
   "cell_type": "code",
   "execution_count": 43,
   "metadata": {},
   "outputs": [],
   "source": [
    "FNModel.save(r'C:\\Users\\abdalah\\Face Recognition\\FaceNet\\FaceNet_Model\\FaceNetModel_epoc1.h5')"
   ]
  },
  {
   "cell_type": "code",
   "execution_count": 44,
   "metadata": {},
   "outputs": [],
   "source": [
    "#find hard to train positive and negative combinations\n",
    "A = []\n",
    "P = []\n",
    "N = []\n",
    "\n",
    "dist_threshold_diff = 0.4\n",
    "dist_threshold_same = 0.3\n",
    "for i in range(nPeople):\n",
    "    ifaces = np.where(labels==i)[0]\n",
    "\n",
    "    iOtherPerson = list(set(range(nFace))-set(ifaces))\n",
    "    \n",
    "    for iface in ifaces:\n",
    "        iSamePerson = list(ifaces)\n",
    "        \n",
    "        #find negative faces\n",
    "        nNegativeFaces = (FaceEmbedding_Dist[iface,iOtherPerson]<dist_threshold_diff).sum()\n",
    "        nNegativeFaces = max(1,nNegativeFaces)\n",
    "        if nNegativeFaces == 0:\n",
    "            continue\n",
    "        \n",
    "        iNegativeFaces = FaceEmbedding_Dist[iface,iOtherPerson].argsort()[:nNegativeFaces]\n",
    "        iNegativeFaces = np.array(iOtherPerson)[iNegativeFaces]\n",
    "        \n",
    "        DistNegativeFaces = FaceEmbedding_Dist[iface,list(iNegativeFaces)]\n",
    "        probNegativeFaces = DistNegativeFaces.max() - DistNegativeFaces + 0.1\n",
    "        probNegativeFaces = probNegativeFaces/probNegativeFaces.sum()\n",
    "        \n",
    "        #find positive faces\n",
    "        nPositiveFaces = (FaceEmbedding_Dist[iface,iSamePerson]>dist_threshold_same).sum()\n",
    "        nPositiveFaces = max(1,nPositiveFaces)\n",
    "        \n",
    "        iPositiveFaces = FaceEmbedding_Dist[iface,iSamePerson].argsort()[-nPositiveFaces:]\n",
    "        iPositiveFaces = np.array(iSamePerson)[iPositiveFaces]\n",
    "        \n",
    "        DistPositiveFaces = FaceEmbedding_Dist[iface,list(iPositiveFaces)]\n",
    "        probPositiveFaces = DistPositiveFaces.max() - DistPositiveFaces + 0.1\n",
    "        probPositiveFaces = probPositiveFaces/probPositiveFaces.sum()\n",
    "        \n",
    "        #samples\n",
    "        nTotalSample = nNegativeFaces*nPositiveFaces+1\n",
    "        \n",
    "        iNegative = np.random.choice(nNegativeFaces,nTotalSample, p = probNegativeFaces)\n",
    "        iNegative = iNegativeFaces[iNegative]\n",
    "        iPositive = np.random.choice(nPositiveFaces,nTotalSample, p = probPositiveFaces)\n",
    "        iPositive = iPositiveFaces[iPositive]\n",
    "\n",
    "        iAnchor = np.ones((nTotalSample,),dtype=int)*iface\n",
    "    \n",
    "        A += list(iAnchor)\n",
    "        P += list(iPositive)\n",
    "        N += list(iNegative)"
   ]
  },
  {
   "cell_type": "code",
   "execution_count": 45,
   "metadata": {},
   "outputs": [
    {
     "name": "stdout",
     "output_type": "stream",
     "text": [
      "57641 number of A, P, N combinations had been identified\n"
     ]
    },
    {
     "data": {
      "image/png": "[encoded data removed]",
      "text/plain": [
       "<Figure size 432x288 with 1 Axes>"
      ]
     },
     "metadata": {
      "needs_background": "light"
     },
     "output_type": "display_data"
    },
    {
     "name": "stdout",
     "output_type": "stream",
     "text": [
      "APN = 0.160 +\\- 0.231\n",
      "AP = 0.446 +\\- 0.232\n",
      "AN = 0.287 +\\- 0.075\n"
     ]
    }
   ],
   "source": [
    "nAPN = len(A)\n",
    "print('%d number of A, P, N combinations had been identified' % nAPN)\n",
    "APN, AP, AN = [], [] ,[]\n",
    "for i, iA in enumerate(A):\n",
    "    iP, iN = P[i], N[i]\n",
    "    Dist_AP = FaceEmbedding_Dist[iA,iP]\n",
    "    Dist_AN = FaceEmbedding_Dist[iA,iN]\n",
    "    APN.append(Dist_AP-Dist_AN)\n",
    "    AP.append(Dist_AP)\n",
    "    AN.append(Dist_AN)\n",
    "\n",
    "plt.hist(APN,bins=20,label='AP-AN')\n",
    "plt.hist(AP, bins=20,label='AP')\n",
    "plt.hist(AN, bins=20,label='AN')\n",
    "plt.legend()\n",
    "plt.show()\n",
    "\n",
    "print('APN = %1.3f +\\- %1.3f' % (np.array(APN).mean(), np.array(APN).std()))\n",
    "print('AP = %1.3f +\\- %1.3f' % (np.array(AP).mean(), np.array(AP).std()))\n",
    "print('AN = %1.3f +\\- %1.3f' % (np.array(AN).mean(), np.array(AN).std()))"
   ]
  },
  {
   "cell_type": "code",
   "execution_count": 53,
   "metadata": {},
   "outputs": [
    {
     "ename": "MemoryError",
     "evalue": "",
     "output_type": "error",
     "traceback": [
      "\u001b[1;31m---------------------------------------------------------------------------\u001b[0m",
      "\u001b[1;31mMemoryError\u001b[0m                               Traceback (most recent call last)",
      "\u001b[1;32m<ipython-input-53-3d3e2190cc17>\u001b[0m in \u001b[0;36m<module>\u001b[1;34m\u001b[0m\n\u001b[1;32m----> 1\u001b[1;33m \u001b[0mSiameseModel\u001b[0m\u001b[1;33m.\u001b[0m\u001b[0mfit\u001b[0m\u001b[1;33m(\u001b[0m\u001b[1;33m[\u001b[0m\u001b[0mFaceData\u001b[0m\u001b[1;33m[\u001b[0m\u001b[0mA\u001b[0m\u001b[1;33m]\u001b[0m\u001b[1;33m,\u001b[0m\u001b[0mFaceData\u001b[0m\u001b[1;33m[\u001b[0m\u001b[0mP\u001b[0m\u001b[1;33m]\u001b[0m\u001b[1;33m,\u001b[0m\u001b[0mFaceData\u001b[0m\u001b[1;33m[\u001b[0m\u001b[0mN\u001b[0m\u001b[1;33m]\u001b[0m\u001b[1;33m]\u001b[0m\u001b[1;33m,\u001b[0m \u001b[0mnp\u001b[0m\u001b[1;33m.\u001b[0m\u001b[0mzeros\u001b[0m\u001b[1;33m(\u001b[0m\u001b[1;33m(\u001b[0m\u001b[0mnAPN\u001b[0m\u001b[1;33m,\u001b[0m\u001b[1;33m)\u001b[0m\u001b[1;33m)\u001b[0m\u001b[1;33m,\u001b[0m \u001b[0mepochs\u001b[0m \u001b[1;33m=\u001b[0m \u001b[1;36m1\u001b[0m\u001b[1;33m,\u001b[0m \u001b[0mbatch_size\u001b[0m \u001b[1;33m=\u001b[0m \u001b[1;36m16\u001b[0m\u001b[1;33m)\u001b[0m\u001b[1;33m\u001b[0m\u001b[1;33m\u001b[0m\u001b[0m\n\u001b[0m",
      "\u001b[1;31mMemoryError\u001b[0m: "
     ]
    }
   ],
   "source": [
    "SiameseModel.fit([FaceData[A],FaceData[P],FaceData[N]], np.zeros((nAPN,)), epochs = 1, batch_size = 16)\n"
   ]
  },
  {
   "cell_type": "code",
   "execution_count": null,
   "metadata": {},
   "outputs": [],
   "source": []
  }
 ],
 "metadata": {
  "kernelspec": {
   "display_name": "Python 3",
   "language": "python",
   "name": "python3"
  },
  "language_info": {
   "codemirror_mode": {
    "name": "ipython",
    "version": 3
   },
   "file_extension": ".py",
   "mimetype": "text/x-python",
   "name": "python",
   "nbconvert_exporter": "python",
   "pygments_lexer": "ipython3",
   "version": "3.7.4"
  }
 },
 "nbformat": 4,
 "nbformat_minor": 2
}
